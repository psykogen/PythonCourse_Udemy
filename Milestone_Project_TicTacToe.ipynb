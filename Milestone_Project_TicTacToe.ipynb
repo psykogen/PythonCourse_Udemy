{
 "cells": [
  {
   "cell_type": "code",
   "execution_count": 1,
   "metadata": {},
   "outputs": [],
   "source": [
    "#Printing the cells\n",
    "\n",
    "d = [x for x in range(1,10)]\n",
    "\n",
    "def print_cells(d):\n",
    "    \n",
    "    head_line = '\\t\\t|\\t\\t|\\t\\t'\n",
    "    foot_line = '----------------|---------------|---------------'\n",
    "    if len(d) == 9:  \n",
    "        for i in range(0,3):\n",
    "            print(head_line)\n",
    "            print('\\t'+str(d[3*i])+'\\t|\\t'+str(d[3*i+1])+'\\t|\\t'+str(d[3*i+2])+'\\t')\n",
    "            print(foot_line)\n",
    "    else:\n",
    "        print('Please reconfigure the array of numbers')"
   ]
  },
  {
   "cell_type": "code",
   "execution_count": 2,
   "metadata": {},
   "outputs": [
    {
     "name": "stdout",
     "output_type": "stream",
     "text": [
      "\t\t|\t\t|\t\t\n",
      "\t1\t|\t2\t|\t3\t\n",
      "----------------|---------------|---------------\n",
      "\t\t|\t\t|\t\t\n",
      "\t4\t|\t5\t|\t6\t\n",
      "----------------|---------------|---------------\n",
      "\t\t|\t\t|\t\t\n",
      "\t7\t|\t8\t|\t9\t\n",
      "----------------|---------------|---------------\n"
     ]
    }
   ],
   "source": [
    "print_cells(d)"
   ]
  },
  {
   "cell_type": "code",
   "execution_count": null,
   "metadata": {},
   "outputs": [],
   "source": []
  }
 ],
 "metadata": {
  "kernelspec": {
   "display_name": "Python 2",
   "language": "python",
   "name": "python2"
  },
  "language_info": {
   "codemirror_mode": {
    "name": "ipython",
    "version": 2
   },
   "file_extension": ".py",
   "mimetype": "text/x-python",
   "name": "python",
   "nbconvert_exporter": "python",
   "pygments_lexer": "ipython2",
   "version": "2.7.13"
  }
 },
 "nbformat": 4,
 "nbformat_minor": 2
}
